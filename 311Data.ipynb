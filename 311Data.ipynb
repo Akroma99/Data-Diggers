{
 "cells": [
  {
   "cell_type": "code",
   "execution_count": 1,
   "id": "17b4607f-6265-49fc-8b47-fffabf6e342e",
   "metadata": {},
   "outputs": [
    {
     "name": "stdout",
     "output_type": "stream",
     "text": [
      "Hello Testing World\n"
     ]
    }
   ],
   "source": [
    "print(\"Hello Testing World\")"
   ]
  }
 ],
 "metadata": {
  "kernelspec": {
   "display_name": "Python 3 (ipykernel)",
   "language": "python",
   "name": "python3"
  },
  "language_info": {
   "codemirror_mode": {
    "name": "ipython",
    "version": 3
   },
   "file_extension": ".py",
   "mimetype": "text/x-python",
   "name": "python",
   "nbconvert_exporter": "python",
   "pygments_lexer": "ipython3",
   "version": "3.12.1"
  }
 },
 "nbformat": 4,
 "nbformat_minor": 5
}
